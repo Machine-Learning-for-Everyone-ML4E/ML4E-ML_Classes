{
 "cells": [
  {
   "cell_type": "markdown",
   "metadata": {},
   "source": [
    "<h1> INTRODUCTION TO DEEP LEARNING WITH PYTORCH </h1>\n",
    "<p><b> author: Abhranta Panigrahi </b></p>"
   ]
  },
  {
   "cell_type": "markdown",
   "metadata": {},
   "source": [
    "<p> Till now we have learnt about basics of Exploratory Data Analysis, Machine learning, Calssification, Regression. We have implemented various machine learning algorithms using scikit learn. Now, it is time to come face to face with another bu word and really powerful technique - \"DEEP LEARNING\". </p>"
   ]
  },
  {
   "cell_type": "markdown",
   "metadata": {},
   "source": [
    "AI, deep learning, machine learning, data science, analytics.... these are all pretty confusing right ????\n",
    "Let's take a look at how they look like ?\n",
    "\n",
    "\n",
    "<img src = \"AI_venn_diagram.png\">"
   ]
  },
  {
   "cell_type": "markdown",
   "metadata": {},
   "source": [
    "<p> One important thing to understand is that the basic goal of machine learningis to create a function that can map between any two spaces. In other words, we try to find a relation between the features and the label of any data </p>\n",
    "<p> For findig this function various different techniques are used, like- Boosting, bagging, etc. Simillarly, Deep Learning also anothing but another technique to predict the function to map the imput space to the output space. </p>\n",
    "<p> It was created to mimic the working of the human brain. It is not accurate in it's depiction of the human brain as it was developed at a time when we didn't know how the human brain works. But, they have astounding learning capabilities which has been one of the biggest reasons for the populariation of AI.</p>"
   ]
  },
  {
   "cell_type": "markdown",
   "metadata": {},
   "source": [
    "<h2> McCulloch-Pitts Neuron </h2>\n",
    "<img src = \"mcCulloch_Pitts.png\">\n",
    "<p>The first artificial neuron was the Threshold Logic Unit (TLU), or Linear Threshold Unit, first proposed by Warren McCulloch and Walter Pitts in 1943. The model was specifically targeted as a computational model of the \"nerve net\" in the brain.</p>\n",
    "<h3> FEATURES </h3>\n",
    "<ul><li>the neuron takes binary inputs</li>\n",
    "    <li>'g' aggregates the inputs</li>\n",
    "    <li>'f'takes a decision based on the aggregation (g) </li>\n",
    "    </ul>\n",
    "    \n",
    "    \n",
    "<h3> Learning Algorithm </h3>\n",
    "<p> Whenever excitatory inputs are given to the neuron, it fires.</p>\n",
    "\n",
    "\\begin{align*}\n",
    " g(x_1 , x_2 , x_3 , ........., x_n) = g(x) = \\sum_{i=1}^{n} x_i \\\\\n",
    " y = f(g(x)) = 1 ,if g(x) \\ge \\theta\\\\\n",
    " y = f(g(x)) = 0 ,if g(x) \\le \\theta\\\\\n",
    "\\end{align*}"
   ]
  },
  {
   "cell_type": "markdown",
   "metadata": {},
   "source": [
    "<img src = \"OR_function_MPM.png\">\n",
    "<p> It can also work for more than 2 inputs </p>\n",
    "<p> Simillaryly, McCulloch Pitts Neuron can be used to represent linearly separable functions </p>"
   ]
  },
  {
   "cell_type": "code",
   "execution_count": 25,
   "metadata": {},
   "outputs": [],
   "source": [
    "#Predicting OR function using McCulloch Pitts Neuron:\n",
    "def McCullochPittsNeuron(x1 , x2):\n",
    "    theta = 1\n",
    "    g = x1 + x2\n",
    "    if g >= theta:\n",
    "        f_of_g = 1\n",
    "    elif g<= theta:\n",
    "        f_of_g = 0\n",
    "    y = f_of_g\n",
    "    return y"
   ]
  },
  {
   "cell_type": "code",
   "execution_count": 26,
   "metadata": {},
   "outputs": [
    {
     "name": "stdout",
     "output_type": "stream",
     "text": [
      "0 1 1\n"
     ]
    }
   ],
   "source": [
    "print(McCullochPittsNeuron(0,0) , McCullochPittsNeuron(1,0) , McCullochPittsNeuron(2,2))"
   ]
  },
  {
   "cell_type": "markdown",
   "metadata": {},
   "source": [
    "<h2> PERCEPTRON </h2>\n",
    "<p> After McCulloch Pitts model, the next model of an artificial neuron to become popular was the \"Perceptron\".</p>\n",
    "<p> The best thing about this model was that it sounded like a transformer and in real life, it added something called as <b>\"WEIGHT\"</b> to the connection.</p>\n",
    "<img src = \"https://datascientest.com/wp-content/uploads/2021/03/perceptron-formule.png\">\n",
    "\n",
    "<h3> FEATURES</h3>\n",
    "<ul><li> Introduction of numerical inputs </li>\n",
    "    <li> Mechanism of learning those weights </li>\n",
    "    <li> Inputs are no longer limited to boolean va,ues/ </li></ul>\n",
    "    \n",
    "<h3> WORKING FORMULA</h3>\n",
    "\\begin{align*}\n",
    " g(x) = \\sum_{i=1}^{n} w_i * x_i \\\\\n",
    " y = f(g(x)) = 1 ,if: \\sum_{i=1}^{n} w_i * x_i \\ge \\theta\\\\\n",
    " y = f(g(x)) = 0 ,if: \\sum_{i=1}^{n} w_i * x_i < \\theta\\\\\n",
    "\\end{align*}\n"
   ]
  },
  {
   "cell_type": "markdown",
   "metadata": {},
   "source": [
    "moving $ \\theta $ to the other side of the inequality: \n",
    "\\begin{align*}\n",
    " y = f(g(x)) = 1 ,if: \\sum_{i=1}^{n} w_i * x_i - \\theta \\ge 0 \\\\\n",
    " y = f(g(x)) = 0 ,if: \\sum_{i=1}^{n} w_i * x_i - \\theta < 0\\\\\n",
    "\\end{align*}\n",
    "\n",
    "<h3>This term $\\theta$ is called as \"BIAS\".</h3>"
   ]
  },
  {
   "cell_type": "code",
   "execution_count": 27,
   "metadata": {},
   "outputs": [],
   "source": [
    "import numpy as np\n",
    "import math\n",
    "import random\n",
    "\n",
    "def perceptron(input_vector):\n",
    "    weights = np.random.normal(0 , 1 , len(input_vector))\n",
    "    bias = random.random()\n",
    "    output_vector = []\n",
    "    for i in range(len(input_vector)):\n",
    "        output = input_vector[i] * weights[i]\n",
    "        output_vector.append(output)      \n",
    "    output_vector.append(-1 * bias)\n",
    "    return sum(output_vector)\n"
   ]
  },
  {
   "cell_type": "code",
   "execution_count": 28,
   "metadata": {},
   "outputs": [
    {
     "data": {
      "text/plain": [
       "3.3559914342356802"
      ]
     },
     "execution_count": 28,
     "metadata": {},
     "output_type": "execute_result"
    }
   ],
   "source": [
    "perceptron([1,2,3])"
   ]
  },
  {
   "cell_type": "markdown",
   "metadata": {},
   "source": [
    "<h3> ACTIVATION FUNCTION </h3>\n",
    "<p> Now we are just a few steps away from being fully equipped with the basics of neural network </p>\n",
    "<p> The reason why neural networks are so powerful is that they can represent highly non linear data. This power comes from the activation functions. </p>\n",
    "When neural networks are used withou any non-linear activation function, they can only prform linear transformations. This severely reduces their ability to represent real world data. </p>\n",
    "\n",
    "$ y = w*x + b $ is a linear transformation.\n",
    "So, instead of doing a linear transformation, we apply a function to the output to change it into a non linear transformation.\n",
    "$ y = f(w*x + b) $\n",
    "\n",
    "These functions can be anything like sigmoid, tanh, ReLU, etc.\n",
    "\n",
    "SIGMOID:\n",
    "<img src = \"https://upload.wikimedia.org/wikipedia/commons/thumb/8/88/Logistic-curve.svg/1200px-Logistic-curve.svg.png\">\n",
    "\n",
    "RELU:\n",
    "<img src = \"https://miro.medium.com/max/1400/1*DfMRHwxY1gyyDmrIAd-gjQ.png\">\n",
    "\n",
    "TANH:\n",
    "<img src = \"https://upload.wikimedia.org/wikipedia/commons/thumb/8/87/Hyperbolic_Tangent.svg/2560px-Hyperbolic_Tangent.svg.png\">\n"
   ]
  },
  {
   "cell_type": "code",
   "execution_count": 29,
   "metadata": {},
   "outputs": [],
   "source": [
    "def perceptron_with_sigmoidActivation(input_vector):\n",
    "    weights = np.random.normal(0 , 1 , len(input_vector))\n",
    "    bias = random.random()\n",
    "    output_vector = []\n",
    "    for i in range(len(input_vector)):\n",
    "        output = input_vector[i] * weights[i]\n",
    "        output_vector.append(output)      \n",
    "        \n",
    "    exponent_term = -(math.exp(bias + sum(output_vector)))\n",
    "    denominator = 1+exponent_term\n",
    "    return 1/denominator\n"
   ]
  },
  {
   "cell_type": "code",
   "execution_count": 30,
   "metadata": {},
   "outputs": [
    {
     "data": {
      "text/plain": [
       "-5.491517126477566"
      ]
     },
     "execution_count": 30,
     "metadata": {},
     "output_type": "execute_result"
    }
   ],
   "source": [
    "perceptron_with_sigmoidActivation([1,2,3])"
   ]
  },
  {
   "cell_type": "markdown",
   "metadata": {},
   "source": [
    "We build a network of these neuroin to create an \"ARTIFICIAL NEURAL NETWORK\".\n",
    "<img src = \"https://www.tibco.com/sites/tibco/files/media_entity/2021-05/neutral-network-diagram.svg\">\n",
    "<p> Let's discuss about how they learn step by step. </p>"
   ]
  },
  {
   "cell_type": "code",
   "execution_count": 31,
   "metadata": {},
   "outputs": [
    {
     "name": "stdout",
     "output_type": "stream",
     "text": [
      "[[0.08404643 0.05415395]\n",
      " [0.09516218 0.07468707]\n",
      " [0.03386185 0.03095798]]\n"
     ]
    }
   ],
   "source": [
    "#Creating a neural network using only python\n",
    "\n",
    "import numpy as np\n",
    "X = [[1 , 2 , 3 , 2.5] , \n",
    "    [2 , 5 , -1 , 2] , \n",
    "    [-1.5 , 2.7 , 3.3 , -0.8]]\n",
    "\n",
    "X = np.array(X)\n",
    "class denseLayer():\n",
    "    def __init__(self , n_inputs , n_neurons):\n",
    "        self.weights = 0.1*np.random.randn(n_inputs , n_neurons)\n",
    "        self.biases = np.zeros((1 , n_neurons))\n",
    "        \n",
    "    def reluActivation(self , inputs):\n",
    "        self.activatedOutput = np.maximum(0 , inputs)\n",
    "        return self.activatedOutput\n",
    "        \n",
    "    def forward(self , inputs):\n",
    "        self.output = np.dot(inputs , self.weights) + self.biases\n",
    "        return self.output\n",
    "        \n",
    "        \n",
    "layer1 = denseLayer(4 , 5)\n",
    "layer2 = denseLayer(5 , 2)\n",
    "\n",
    "unactivated_layer1 = layer1.forward(X)\n",
    "activated_layer1 = layer1.reluActivation(unactivated_layer1)\n",
    "unactivated_layer2 = layer2.forward(activated_layer1)\n",
    "activated_layer2 = layer2.reluActivation(unactivated_layer2)\n",
    "print(activated_layer2)"
   ]
  },
  {
   "cell_type": "markdown",
   "metadata": {},
   "source": [
    "<h2> Loss Function </h2>\n",
    "<p> So how wold our network know when it is doing a mistake and when it is not ? </p>\n",
    "<p> For that we use a loss function </p>\n",
    "<h3> Squared Error Loss </h3> <br>\n",
    "$ L(w) = \\sum_{i=1}^{n} (pred_i - actual_i)^2 $"
   ]
  },
  {
   "cell_type": "markdown",
   "metadata": {},
   "source": [
    "So, we calculate this loss and then we backpropagate which another fancy name for chain rule of differentiation. After calculating the gradient of the loss with respect to all the weights and biases of the network, we change the parameters via an optimization method called as \"GRADIENT DESCENT\".\n",
    "\n",
    "P.S. We don't have time to discuss about those in details, but do feel free to read about them online ar ask ny of us, We will provide you with the resources. (it has a lot of maths though :3)"
   ]
  },
  {
   "cell_type": "markdown",
   "metadata": {},
   "source": [
    "<h2> PYTORCH </h2>"
   ]
  },
  {
   "cell_type": "markdown",
   "metadata": {},
   "source": [
    "There is a lot to learn in pytorch but you guys need to learn it by yourselves. We will go through the basics of it.\n",
    "\n",
    "Here we are going to classify an XOR toy dataset using a small neural network."
   ]
  },
  {
   "cell_type": "code",
   "execution_count": 32,
   "metadata": {},
   "outputs": [],
   "source": [
    "import torch\n",
    "import torch.nn as nn\n",
    "import torch.nn.functional as F"
   ]
  },
  {
   "cell_type": "markdown",
   "metadata": {},
   "source": [
    "The neural network we are going to build is:\n",
    "\n",
    "<img src = \"https://uvadlc-notebooks.readthedocs.io/en/latest/_images/small_neural_network.svg\">"
   ]
  },
  {
   "cell_type": "code",
   "execution_count": 33,
   "metadata": {},
   "outputs": [],
   "source": [
    "class SimpleClassifier(nn.Module):\n",
    "\n",
    "    def __init__(self, num_inputs, num_hidden, num_outputs):\n",
    "        super().__init__()\n",
    "        # Initialize the modules we need to build the network\n",
    "        self.linear1 = nn.Linear(num_inputs, num_hidden)\n",
    "        self.act_fn = nn.Tanh()\n",
    "        self.linear2 = nn.Linear(num_hidden, num_outputs)\n",
    "\n",
    "\n",
    "    def forward(self, x):\n",
    "        # Perform the calculation of the model to determine the prediction\n",
    "        x = self.linear1(x)\n",
    "        x = self.act_fn(x)\n",
    "        x = self.linear2(x)\n",
    "        return x"
   ]
  },
  {
   "cell_type": "code",
   "execution_count": 34,
   "metadata": {},
   "outputs": [
    {
     "name": "stdout",
     "output_type": "stream",
     "text": [
      "SimpleClassifier(\n",
      "  (linear1): Linear(in_features=2, out_features=4, bias=True)\n",
      "  (act_fn): Tanh()\n",
      "  (linear2): Linear(in_features=4, out_features=1, bias=True)\n",
      ")\n"
     ]
    }
   ],
   "source": [
    "model = SimpleClassifier(num_inputs=2, num_hidden=4, num_outputs=1)\n",
    "# Printing a module shows all its submodules\n",
    "print(model)"
   ]
  },
  {
   "cell_type": "code",
   "execution_count": 35,
   "metadata": {},
   "outputs": [
    {
     "name": "stdout",
     "output_type": "stream",
     "text": [
      "Parameter linear1.weight, shape torch.Size([4, 2])\n",
      "Parameter linear1.bias, shape torch.Size([4])\n",
      "Parameter linear2.weight, shape torch.Size([1, 4])\n",
      "Parameter linear2.bias, shape torch.Size([1])\n"
     ]
    }
   ],
   "source": [
    "for name, param in model.named_parameters():\n",
    "    print(\"Parameter %s, shape %s\" % (name, str(param.shape)))"
   ]
  },
  {
   "cell_type": "markdown",
   "metadata": {},
   "source": [
    "<ul><li>Each linear layer has a weight matrix of the shape [output, input], and a bias of the shape [output]</li>\n",
    "    <li> The tanh activation function does not have any parameters.</li></ul>\n",
    "    "
   ]
  },
  {
   "cell_type": "markdown",
   "metadata": {},
   "source": [
    "<h2> The data </h2>\n",
    "<p>PyTorch also provides a few functionalities to load the training and test data efficiently, summarized in the package <b>torch.utils.data</b>.</p>"
   ]
  },
  {
   "cell_type": "code",
   "execution_count": 36,
   "metadata": {},
   "outputs": [],
   "source": [
    "import torch.utils.data as data"
   ]
  },
  {
   "cell_type": "markdown",
   "metadata": {},
   "source": [
    "The data package defines two classes which are the standard interface for handling data in PyTorch: data.Dataset, and data.DataLoader. The dataset class provides an uniform interface to access the training/test data, while the data loader makes sure to efficiently load and stack the data points from the dataset into batches during training."
   ]
  },
  {
   "cell_type": "markdown",
   "metadata": {},
   "source": [
    "<h2> The Dataset Class </h2>\n",
    "<ul><li>The dataset class summarizes the basic functionality of a dataset in a natural way.</li>\n",
    "    <li>To define a dataset in PyTorch, we simply specify two functions:<ul>\n",
    "        <li>__getitem__</li>\n",
    "        <li> __len__</li></ul>\n",
    "    <li>The get-item function has to return the -th data point in the dataset, while the len function returns the size of the dataset</li>\n",
    "    </ul>\n"
   ]
  },
  {
   "cell_type": "code",
   "execution_count": 37,
   "metadata": {},
   "outputs": [],
   "source": [
    "class XORDataset(data.Dataset):\n",
    "\n",
    "    def __init__(self, size, std=0.1):\n",
    "        \"\"\"\n",
    "        Inputs:\n",
    "            size - Number of data points we want to generate\n",
    "            std - Standard deviation of the noise (see generate_continuous_xor function)\n",
    "        \"\"\"\n",
    "        super().__init__()\n",
    "        self.size = size\n",
    "        self.std = std\n",
    "        self.generate_continuous_xor()\n",
    "\n",
    "\n",
    "    def generate_continuous_xor(self):\n",
    "        # Each data point in the XOR dataset has two variables, x and y, that can be either 0 or 1\n",
    "        # The label is their XOR combination, i.e. 1 if only x or only y is 1 while the other is 0.\n",
    "        # If x=y, the label is 0.\n",
    "        data = torch.randint(low=0, high=2, size=(self.size, 2), dtype=torch.float32)\n",
    "        label = (data.sum(dim=1) == 1).to(torch.long)\n",
    "        # To make it slightly more challenging, we add a bit of gaussian noise to the data points.\n",
    "        data += self.std * torch.randn(data.shape)\n",
    "\n",
    "        self.data = data\n",
    "        self.label = label\n",
    "\n",
    "\n",
    "    def __len__(self):\n",
    "        # Number of data point we have. Alternatively self.data.shape[0], or self.label.shape[0]\n",
    "        return self.size\n",
    "\n",
    "\n",
    "    def __getitem__(self, idx):\n",
    "        # Return the idx-th data point of the dataset\n",
    "        # If we have multiple things to return (data point and label), we can return them as tuple\n",
    "        data_point = self.data[idx]\n",
    "        data_label = self.label[idx]\n",
    "        return data_point, data_label"
   ]
  },
  {
   "cell_type": "code",
   "execution_count": 38,
   "metadata": {},
   "outputs": [
    {
     "name": "stdout",
     "output_type": "stream",
     "text": [
      "Size of dataset: 200\n",
      "Data point 0: (tensor([-0.1512,  0.0380]), tensor(0))\n"
     ]
    }
   ],
   "source": [
    "dataset = XORDataset(size=200)\n",
    "print(\"Size of dataset:\", len(dataset))\n",
    "print(\"Data point 0:\", dataset[0])"
   ]
  },
  {
   "cell_type": "code",
   "execution_count": 41,
   "metadata": {},
   "outputs": [],
   "source": [
    "import matplotlib.pyplot as plt\n",
    "def visualize_samples(data, label):\n",
    "    if isinstance(data, torch.Tensor):\n",
    "        data = data.cpu().numpy()\n",
    "    if isinstance(label, torch.Tensor):\n",
    "        label = label.cpu().numpy()\n",
    "    data_0 = data[label == 0]\n",
    "    data_1 = data[label == 1]\n",
    "\n",
    "    plt.figure(figsize=(4,4))\n",
    "    plt.scatter(data_0[:,0], data_0[:,1], edgecolor=\"#333\", label=\"Class 0\")\n",
    "    plt.scatter(data_1[:,0], data_1[:,1], edgecolor=\"#333\", label=\"Class 1\")\n",
    "    plt.title(\"Dataset samples\")\n",
    "    plt.ylabel(r\"$x_2$\")\n",
    "    plt.xlabel(r\"$x_1$\")\n",
    "    plt.legend()"
   ]
  },
  {
   "cell_type": "code",
   "execution_count": 42,
   "metadata": {},
   "outputs": [
    {
     "data": {
      "image/png": "[encoded data removed]",
      "text/plain": [
       "<Figure size 288x288 with 1 Axes>"
      ]
     },
     "metadata": {
      "needs_background": "light"
     },
     "output_type": "display_data"
    }
   ],
   "source": [
    "visualize_samples(dataset.data, dataset.label)\n",
    "plt.show()"
   ]
  },
  {
   "cell_type": "markdown",
   "metadata": {},
   "source": [
    "<h2> The Dataloader Class </h2>\n",
    "The class torch.utils.data.DataLoader represents a Python iterable over a dataset with support for automatic batching, multi-process data loading and many more features. The data loader communicates with the dataset using the function __getitem__, and stacks its outputs as tensors over the first dimension to form a batch. In contrast to the dataset class, we usually don’t have to define our own data loader class, but can just create an object of it with the dataset as input. Additionally, we can configure our data loader with the following input arguments (only a selection, see full list here):\n",
    "\n",
    "<ul>\n",
    "    <li>batch_size: Number of samples to stack per batch</li>\n",
    "\n",
    "<li>shuffle: If True, the data is returned in a random order. This is important during training for introducing stochasticity.</li>\n",
    "\n",
    "<li>num_workers: Number of subprocesses to use for data loading. The default, 0, means that the data will be loaded in the main process which can slow down training for datasets where loading a data point takes a considerable amount of time (e.g. large images). More workers are recommended for those, but can cause issues on Windows computers. For tiny datasets as ours, 0 workers are usually faster.</li>\n",
    "\n",
    "<li>drop_last: If True, the last batch is dropped in case it is smaller than the specified batch size. This occurs when the dataset size is not a multiple of the batch size. Only potentially helpful during training to keep a consistent batch size.</li>"
   ]
  },
  {
   "cell_type": "code",
   "execution_count": 45,
   "metadata": {},
   "outputs": [],
   "source": [
    "data_loader = data.DataLoader(dataset, batch_size=10, shuffle=True)"
   ]
  },
  {
   "cell_type": "code",
   "execution_count": 46,
   "metadata": {},
   "outputs": [
    {
     "name": "stdout",
     "output_type": "stream",
     "text": [
      "Data inputs torch.Size([10, 2]) \n",
      " tensor([[ 0.0441,  1.0008],\n",
      "        [-0.1069,  1.0215],\n",
      "        [-0.0270,  0.9839],\n",
      "        [-0.0048,  0.9707],\n",
      "        [ 0.0349,  0.0488],\n",
      "        [-0.1512,  0.0380],\n",
      "        [ 0.8686,  1.0261],\n",
      "        [ 0.9910,  0.0421],\n",
      "        [ 0.0101, -0.0639],\n",
      "        [-0.0219,  0.1537]])\n",
      "Data labels torch.Size([10]) \n",
      " tensor([1, 1, 1, 1, 0, 0, 0, 1, 0, 0])\n"
     ]
    }
   ],
   "source": [
    "# next(iter(...)) catches the first batch of the data loader\n",
    "# If shuffle is True, this will return a different batch every time we run this cell\n",
    "# For iterating over the whole dataset, we can simple use \"for batch in data_loader: ...\"\n",
    "data_inputs, data_labels = next(iter(data_loader))\n",
    "\n",
    "# The shape of the outputs are [batch_size, d_1,...,d_N] where d_1,...,d_N are the\n",
    "# dimensions of the data point returned from the dataset class\n",
    "print(\"Data inputs\", data_inputs.shape, \"\\n\", data_inputs)\n",
    "print(\"Data labels\", data_labels.shape, \"\\n\", data_labels)"
   ]
  },
  {
   "cell_type": "markdown",
   "metadata": {},
   "source": [
    "<h2> Optimization </h2>\n",
    "\n",
    "\n",
    "After defining the model and the dataset, it is time to prepare the optimiiiizion of the model. During training we will perform the following steps:\n",
    "<ul>\n",
    "    <li>Get a batch from the data loader</li>\n",
    "    <li>Obtain the predictions from the model for the batch</li>\n",
    "    <li>Calculate the loss based on the difference between predictions and labels</li>\n",
    "    <li>Backpropagation: calculate the gradients for every parameter with respect to the loss</li>\n",
    "    <li>Update the parameters of the model in the direction of the gradients</li></ul>"
   ]
  },
  {
   "cell_type": "markdown",
   "metadata": {},
   "source": [
    "<h2> Loss Modules </h2>\n",
    "<p>We can calculate the loss for a batch by simply performing a few tensor operations as those are automatically added to the computation graph. For instance, for binary classification, we can use Binary Cross Entropy (BCE).</p>\n",
    "\n",
    "<p> Pytorch provides all these losses, so we just have to implement these losses. </p>\n",
    "<p> Everyone is adised to read more about these loss functions, as this is one of the most crucial part of a learning algorithm. </p>\n",
    "    \n",
    "    "
   ]
  },
  {
   "cell_type": "code",
   "execution_count": 47,
   "metadata": {},
   "outputs": [],
   "source": [
    "loss_module = nn.BCEWithLogitsLoss()"
   ]
  },
  {
   "cell_type": "markdown",
   "metadata": {},
   "source": [
    "<h2> Stochastic Gradient Descent</h2>\n",
    "\n",
    "For updating the parameters, PyTorch provides the package <b>torch.optim</b> that has most popular optimizers implemented. We will use the simplest of them: torch.optim.SGD. \n",
    "\n",
    "Stochastic Gradient Descent updates parameters by multiplying the gradients with a small constant, called learning rate, and subtracting those from the parameters (hence minimizing the loss). Therefore, we slowly move towards the direction of minimizing the loss. A good default value of the learning rate for a small network as ours is 0.1."
   ]
  },
  {
   "cell_type": "code",
   "execution_count": 48,
   "metadata": {},
   "outputs": [],
   "source": [
    "# Input to the optimizer are the parameters of the model: model.parameters()\n",
    "optimizer = torch.optim.SGD(model.parameters(), lr=0.1)"
   ]
  },
  {
   "cell_type": "markdown",
   "metadata": {},
   "source": [
    "The optimizer provides two useful functions: optimizer.step(), and optimizer.zero_grad(). The step function updates the parameters based on the gradients as explained above. The function optimizer.zero_grad() sets the gradients of all parameters to zero. While this function seems less relevant at first, it is a crucial pre-step before performing backpropagation. If we would call the backward function on the loss while the parameter gradients are non-zero from the previous batch, the new gradients would actually be added to the previous ones instead of overwriting them. This is done because a parameter might occur multiple times in a computation graph, and we need to sum the gradients in this case instead of replacing them. Hence, remember to call optimizer.zero_grad() before calculating the gradients of a batch."
   ]
  },
  {
   "cell_type": "markdown",
   "metadata": {},
   "source": [
    "<h2>Training </h2>\n",
    "Finally, we are ready to train our model. As a first step, we create a slightly larger dataset and specify a data loader with a larger batch size."
   ]
  },
  {
   "cell_type": "code",
   "execution_count": 49,
   "metadata": {},
   "outputs": [],
   "source": [
    "train_dataset = XORDataset(size=1000)\n",
    "train_data_loader = data.DataLoader(train_dataset, batch_size=128, shuffle=True)"
   ]
  },
  {
   "cell_type": "code",
   "execution_count": 51,
   "metadata": {},
   "outputs": [
    {
     "data": {
      "image/png": "[encoded data removed]",
      "text/plain": [
       "<Figure size 288x288 with 1 Axes>"
      ]
     },
     "metadata": {
      "needs_background": "light"
     },
     "output_type": "display_data"
    }
   ],
   "source": [
    "visualize_samples(train_dataset.data, train_dataset.label)\n",
    "plt.show()"
   ]
  },
  {
   "cell_type": "markdown",
   "metadata": {},
   "source": [
    "Now, we can write a small training function. Remember our five steps: load a batch, obtain the predictions, calculate the loss, backpropagate, and update."
   ]
  },
  {
   "cell_type": "code",
   "execution_count": 56,
   "metadata": {},
   "outputs": [],
   "source": [
    "from tqdm.notebook import tqdm\n",
    "def train_model(model, optimizer, data_loader, loss_module, num_epochs=100):\n",
    "    # Set model to train mode\n",
    "    model.train()\n",
    "\n",
    "    # Training loop\n",
    "    for epoch in tqdm(range(num_epochs)):\n",
    "        for data_inputs, data_labels in data_loader:\n",
    "\n",
    "            ## Step 1: Move input data to device (only strictly necessary if we use GPU)\n",
    "            # data_inputs, data_labels = data_inputs.to(device), data_labels.to(device)\n",
    "\n",
    "            ## Step 2: Run the model on the input data\n",
    "            preds = model(data_inputs)\n",
    "            preds = preds.squeeze(dim=1) # Output is [Batch size, 1], but we want [Batch size]\n",
    "\n",
    "            ## Step 3: Calculate the loss\n",
    "            loss = loss_module(preds, data_labels.float())\n",
    "\n",
    "            ## Step 4: Perform backpropagation\n",
    "            # Before calculating the gradients, we need to ensure that they are all zero.\n",
    "            # The gradients would not be overwritten, but actually added to the existing ones.\n",
    "            optimizer.zero_grad()\n",
    "            # Perform backpropagation\n",
    "            loss.backward()\n",
    "\n",
    "            ## Step 5: Update the parameters\n",
    "            optimizer.step()\n"
   ]
  },
  {
   "cell_type": "code",
   "execution_count": 57,
   "metadata": {},
   "outputs": [
    {
     "data": {
      "application/vnd.jupyter.widget-view+json": {
       "model_id": "9ed2e5c2a47e41e5bb041305067f1b8e",
       "version_major": 2,
       "version_minor": 0
      },
      "text/plain": [
       "HBox(children=(HTML(value=''), FloatProgress(value=0.0), HTML(value='')))"
      ]
     },
     "metadata": {},
     "output_type": "display_data"
    },
    {
     "name": "stdout",
     "output_type": "stream",
     "text": [
      "\n"
     ]
    }
   ],
   "source": [
    "train_model(model, optimizer, train_data_loader, loss_module)"
   ]
  },
  {
   "cell_type": "markdown",
   "metadata": {},
   "source": [
    "<h2> Evaluation </h2>\n",
    "Once we have trained a model, it is time to evaluate it on a held-out test set. As our dataset consist of randomly generated data points, we need to first create a test set with a corresponding data loader."
   ]
  },
  {
   "cell_type": "code",
   "execution_count": 58,
   "metadata": {},
   "outputs": [],
   "source": [
    "test_dataset = XORDataset(size=500)\n",
    "# drop_last -> Don't drop the last batch although it is smaller than 128\n",
    "test_data_loader = data.DataLoader(test_dataset, batch_size=128, shuffle=False, drop_last=False)"
   ]
  },
  {
   "cell_type": "code",
   "execution_count": 59,
   "metadata": {},
   "outputs": [
    {
     "data": {
      "image/png": "[encoded data removed]",
      "text/plain": [
       "<Figure size 288x288 with 1 Axes>"
      ]
     },
     "metadata": {
      "needs_background": "light"
     },
     "output_type": "display_data"
    }
   ],
   "source": [
    "visualize_samples(test_dataset.data, test_dataset.label)\n",
    "plt.show()"
   ]
  },
  {
   "cell_type": "code",
   "execution_count": 62,
   "metadata": {},
   "outputs": [],
   "source": [
    "def eval_model(model, data_loader):\n",
    "    model.eval() # Set model to eval mode\n",
    "    true_preds, num_preds = 0., 0.\n",
    "\n",
    "    with torch.no_grad(): # Deactivate gradients for the following code\n",
    "        for data_inputs, data_labels in data_loader:\n",
    "\n",
    "            # Determine prediction of model on dev set\n",
    "            #data_inputs, data_labels = data_inputs.to(device), data_labels.to(device)\n",
    "            preds = model(data_inputs)\n",
    "            preds = preds.squeeze(dim=1)\n",
    "            preds = torch.sigmoid(preds) # Sigmoid to map predictions between 0 and 1\n",
    "            pred_labels = (preds >= 0.5).long() # Binarize predictions to 0 and 1\n",
    "\n",
    "            # Keep records of predictions for the accuracy metric (true_preds=TP+TN, num_preds=TP+TN+FP+FN)\n",
    "            true_preds += (pred_labels == data_labels).sum()\n",
    "            num_preds += data_labels.shape[0]\n",
    "\n",
    "    acc = true_preds / num_preds\n",
    "    print(\"Accuracy of the model: %4.2f%%\" % (100.0*acc))"
   ]
  },
  {
   "cell_type": "code",
   "execution_count": 63,
   "metadata": {},
   "outputs": [
    {
     "name": "stdout",
     "output_type": "stream",
     "text": [
      "Accuracy of the model: 100.00%\n"
     ]
    }
   ],
   "source": [
    "eval_model(model, test_data_loader)"
   ]
  },
  {
   "cell_type": "markdown",
   "metadata": {},
   "source": [
    "If we trained our model correctly, we should see a score close to 100% accuracy. However, this is only possible because of our simple task, and unfortunately, we usually don’t get such high scores on test sets of more complex tasks."
   ]
  },
  {
   "cell_type": "markdown",
   "metadata": {},
   "source": [
    "<h2> Visualization </h2>\n",
    "\n",
    "To visualize what our model has learned, we can perform a prediction for every data point in a range of [-0.5 , 1.5] , and visualize the predicted class as in the sample figure at the beginning of this section. This shows where the model has created decision boundaries, and which points would be classified as , and which as 1 . We therefore get a background image out of blue (class 0) and orange (class 1). The spots where the model is uncertain we will see a blurry overlap. The specific code is less relevant compared to the output figure which should hopefully show us a clear separation of classes:"
   ]
  },
  {
   "cell_type": "code",
   "execution_count": 66,
   "metadata": {},
   "outputs": [
    {
     "data": {
      "image/png": "[encoded data removed]",
      "text/plain": [
       "<Figure size 288x288 with 1 Axes>"
      ]
     },
     "metadata": {
      "needs_background": "light"
     },
     "output_type": "display_data"
    }
   ],
   "source": [
    "device = 'cpu'\n",
    "from matplotlib.colors import to_rgba\n",
    "@torch.no_grad() # Decorator, same effect as \"with torch.no_grad(): ...\" over the whole function.\n",
    "def visualize_classification(model, data, label):\n",
    "    if isinstance(data, torch.Tensor):\n",
    "        data = data.cpu().numpy()\n",
    "    if isinstance(label, torch.Tensor):\n",
    "        label = label.cpu().numpy()\n",
    "    data_0 = data[label == 0]\n",
    "    data_1 = data[label == 1]\n",
    "\n",
    "    plt.figure(figsize=(4,4))\n",
    "    plt.scatter(data_0[:,0], data_0[:,1], edgecolor=\"#333\", label=\"Class 0\")\n",
    "    plt.scatter(data_1[:,0], data_1[:,1], edgecolor=\"#333\", label=\"Class 1\")\n",
    "    plt.title(\"Dataset samples\")\n",
    "    plt.ylabel(r\"$x_2$\")\n",
    "    plt.xlabel(r\"$x_1$\")\n",
    "    plt.legend()\n",
    "\n",
    "    # Let's make use of a lot of operations we have learned above\n",
    "    model.to(device)\n",
    "    c0 = torch.Tensor(to_rgba(\"C0\")).to(device)\n",
    "    c1 = torch.Tensor(to_rgba(\"C1\")).to(device)\n",
    "    x1 = torch.arange(-0.5, 1.5, step=0.01, device=device)\n",
    "    x2 = torch.arange(-0.5, 1.5, step=0.01, device=device)\n",
    "    xx1, xx2 = torch.meshgrid(x1, x2) # Meshgrid function as in numpy\n",
    "    model_inputs = torch.stack([xx1, xx2], dim=-1)\n",
    "    preds = model(model_inputs)\n",
    "    preds = torch.sigmoid(preds)\n",
    "    output_image = preds * c0[None,None] + (1 - preds) * c1[None,None] # Specifying \"None\" in a dimension creates a new one\n",
    "    output_image = output_image.cpu().numpy() # Convert to numpy array. This only works for tensors on CPU, hence first push to CPU\n",
    "    plt.imshow(output_image, origin='upper', extent=(-0.5, 1.5, -0.5, 1.5))\n",
    "    plt.grid(False)\n",
    "\n",
    "visualize_classification(model, dataset.data, dataset.label)\n",
    "plt.show()"
   ]
  },
  {
   "cell_type": "code",
   "execution_count": null,
   "metadata": {},
   "outputs": [],
   "source": []
  }
 ],
 "metadata": {
  "kernelspec": {
   "display_name": "Python 3",
   "language": "python",
   "name": "python3"
  },
  "language_info": {
   "codemirror_mode": {
    "name": "ipython",
    "version": 3
   },
   "file_extension": ".py",
   "mimetype": "text/x-python",
   "name": "python",
   "nbconvert_exporter": "python",
   "pygments_lexer": "ipython3",
   "version": "3.6.9"
  }
 },
 "nbformat": 4,
 "nbformat_minor": 4
}
